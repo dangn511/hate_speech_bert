{
  "nbformat": 4,
  "nbformat_minor": 0,
  "metadata": {
    "colab": {
      "name": "data_back_translation",
      "provenance": [],
      "collapsed_sections": []
    },
    "kernelspec": {
      "name": "python3",
      "display_name": "Python 3"
    },
    "language_info": {
      "name": "python"
    },
    "widgets": {
      "application/vnd.jupyter.widget-state+json": {
        "11f3645e49ac44a1ad6bfcd4ef45fbdd": {
          "model_module": "@jupyter-widgets/controls",
          "model_name": "HBoxModel",
          "model_module_version": "1.5.0",
          "state": {
            "_view_name": "HBoxView",
            "_dom_classes": [],
            "_model_name": "HBoxModel",
            "_view_module": "@jupyter-widgets/controls",
            "_model_module_version": "1.5.0",
            "_view_count": null,
            "_view_module_version": "1.5.0",
            "box_style": "",
            "layout": "IPY_MODEL_8e03767305ef465e8a58fd04f4b45ca9",
            "_model_module": "@jupyter-widgets/controls",
            "children": [
              "IPY_MODEL_7ad0cc0de8f94437a1fe216817fa73a8",
              "IPY_MODEL_e2dd7f68e26f4ee88335985f7643ee47",
              "IPY_MODEL_63cf781eeb0b4bd2bf3f036ae18d4db9"
            ]
          }
        },
        "8e03767305ef465e8a58fd04f4b45ca9": {
          "model_module": "@jupyter-widgets/base",
          "model_name": "LayoutModel",
          "model_module_version": "1.2.0",
          "state": {
            "_view_name": "LayoutView",
            "grid_template_rows": null,
            "right": null,
            "justify_content": null,
            "_view_module": "@jupyter-widgets/base",
            "overflow": null,
            "_model_module_version": "1.2.0",
            "_view_count": null,
            "flex_flow": null,
            "width": null,
            "min_width": null,
            "border": null,
            "align_items": null,
            "bottom": null,
            "_model_module": "@jupyter-widgets/base",
            "top": null,
            "grid_column": null,
            "overflow_y": null,
            "overflow_x": null,
            "grid_auto_flow": null,
            "grid_area": null,
            "grid_template_columns": null,
            "flex": null,
            "_model_name": "LayoutModel",
            "justify_items": null,
            "grid_row": null,
            "max_height": null,
            "align_content": null,
            "visibility": null,
            "align_self": null,
            "height": null,
            "min_height": null,
            "padding": null,
            "grid_auto_rows": null,
            "grid_gap": null,
            "max_width": null,
            "order": null,
            "_view_module_version": "1.2.0",
            "grid_template_areas": null,
            "object_position": null,
            "object_fit": null,
            "grid_auto_columns": null,
            "margin": null,
            "display": null,
            "left": null
          }
        },
        "7ad0cc0de8f94437a1fe216817fa73a8": {
          "model_module": "@jupyter-widgets/controls",
          "model_name": "HTMLModel",
          "model_module_version": "1.5.0",
          "state": {
            "_view_name": "HTMLView",
            "style": "IPY_MODEL_40d57fde102a4f1ca62f7103f7d48019",
            "_dom_classes": [],
            "description": "",
            "_model_name": "HTMLModel",
            "placeholder": "​",
            "_view_module": "@jupyter-widgets/controls",
            "_model_module_version": "1.5.0",
            "value": "100%",
            "_view_count": null,
            "_view_module_version": "1.5.0",
            "description_tooltip": null,
            "_model_module": "@jupyter-widgets/controls",
            "layout": "IPY_MODEL_1579a39b944b4def983bdf170e52e223"
          }
        },
        "e2dd7f68e26f4ee88335985f7643ee47": {
          "model_module": "@jupyter-widgets/controls",
          "model_name": "FloatProgressModel",
          "model_module_version": "1.5.0",
          "state": {
            "_view_name": "ProgressView",
            "style": "IPY_MODEL_fdee1afb23f3414ba193a74123ca38f9",
            "_dom_classes": [],
            "description": "",
            "_model_name": "FloatProgressModel",
            "bar_style": "success",
            "max": 200,
            "_view_module": "@jupyter-widgets/controls",
            "_model_module_version": "1.5.0",
            "value": 200,
            "_view_count": null,
            "_view_module_version": "1.5.0",
            "orientation": "horizontal",
            "min": 0,
            "description_tooltip": null,
            "_model_module": "@jupyter-widgets/controls",
            "layout": "IPY_MODEL_dcbe0eaa2f8642d58f832929fdee8bd0"
          }
        },
        "63cf781eeb0b4bd2bf3f036ae18d4db9": {
          "model_module": "@jupyter-widgets/controls",
          "model_name": "HTMLModel",
          "model_module_version": "1.5.0",
          "state": {
            "_view_name": "HTMLView",
            "style": "IPY_MODEL_1029493fb5ea42a286899e4779775c1a",
            "_dom_classes": [],
            "description": "",
            "_model_name": "HTMLModel",
            "placeholder": "​",
            "_view_module": "@jupyter-widgets/controls",
            "_model_module_version": "1.5.0",
            "value": " 200/200 [28:58&lt;00:00,  9.11s/it]",
            "_view_count": null,
            "_view_module_version": "1.5.0",
            "description_tooltip": null,
            "_model_module": "@jupyter-widgets/controls",
            "layout": "IPY_MODEL_9e26625218414b018826f66376f73304"
          }
        },
        "40d57fde102a4f1ca62f7103f7d48019": {
          "model_module": "@jupyter-widgets/controls",
          "model_name": "DescriptionStyleModel",
          "model_module_version": "1.5.0",
          "state": {
            "_view_name": "StyleView",
            "_model_name": "DescriptionStyleModel",
            "description_width": "",
            "_view_module": "@jupyter-widgets/base",
            "_model_module_version": "1.5.0",
            "_view_count": null,
            "_view_module_version": "1.2.0",
            "_model_module": "@jupyter-widgets/controls"
          }
        },
        "1579a39b944b4def983bdf170e52e223": {
          "model_module": "@jupyter-widgets/base",
          "model_name": "LayoutModel",
          "model_module_version": "1.2.0",
          "state": {
            "_view_name": "LayoutView",
            "grid_template_rows": null,
            "right": null,
            "justify_content": null,
            "_view_module": "@jupyter-widgets/base",
            "overflow": null,
            "_model_module_version": "1.2.0",
            "_view_count": null,
            "flex_flow": null,
            "width": null,
            "min_width": null,
            "border": null,
            "align_items": null,
            "bottom": null,
            "_model_module": "@jupyter-widgets/base",
            "top": null,
            "grid_column": null,
            "overflow_y": null,
            "overflow_x": null,
            "grid_auto_flow": null,
            "grid_area": null,
            "grid_template_columns": null,
            "flex": null,
            "_model_name": "LayoutModel",
            "justify_items": null,
            "grid_row": null,
            "max_height": null,
            "align_content": null,
            "visibility": null,
            "align_self": null,
            "height": null,
            "min_height": null,
            "padding": null,
            "grid_auto_rows": null,
            "grid_gap": null,
            "max_width": null,
            "order": null,
            "_view_module_version": "1.2.0",
            "grid_template_areas": null,
            "object_position": null,
            "object_fit": null,
            "grid_auto_columns": null,
            "margin": null,
            "display": null,
            "left": null
          }
        },
        "fdee1afb23f3414ba193a74123ca38f9": {
          "model_module": "@jupyter-widgets/controls",
          "model_name": "ProgressStyleModel",
          "model_module_version": "1.5.0",
          "state": {
            "_view_name": "StyleView",
            "_model_name": "ProgressStyleModel",
            "description_width": "",
            "_view_module": "@jupyter-widgets/base",
            "_model_module_version": "1.5.0",
            "_view_count": null,
            "_view_module_version": "1.2.0",
            "bar_color": null,
            "_model_module": "@jupyter-widgets/controls"
          }
        },
        "dcbe0eaa2f8642d58f832929fdee8bd0": {
          "model_module": "@jupyter-widgets/base",
          "model_name": "LayoutModel",
          "model_module_version": "1.2.0",
          "state": {
            "_view_name": "LayoutView",
            "grid_template_rows": null,
            "right": null,
            "justify_content": null,
            "_view_module": "@jupyter-widgets/base",
            "overflow": null,
            "_model_module_version": "1.2.0",
            "_view_count": null,
            "flex_flow": null,
            "width": null,
            "min_width": null,
            "border": null,
            "align_items": null,
            "bottom": null,
            "_model_module": "@jupyter-widgets/base",
            "top": null,
            "grid_column": null,
            "overflow_y": null,
            "overflow_x": null,
            "grid_auto_flow": null,
            "grid_area": null,
            "grid_template_columns": null,
            "flex": null,
            "_model_name": "LayoutModel",
            "justify_items": null,
            "grid_row": null,
            "max_height": null,
            "align_content": null,
            "visibility": null,
            "align_self": null,
            "height": null,
            "min_height": null,
            "padding": null,
            "grid_auto_rows": null,
            "grid_gap": null,
            "max_width": null,
            "order": null,
            "_view_module_version": "1.2.0",
            "grid_template_areas": null,
            "object_position": null,
            "object_fit": null,
            "grid_auto_columns": null,
            "margin": null,
            "display": null,
            "left": null
          }
        },
        "1029493fb5ea42a286899e4779775c1a": {
          "model_module": "@jupyter-widgets/controls",
          "model_name": "DescriptionStyleModel",
          "model_module_version": "1.5.0",
          "state": {
            "_view_name": "StyleView",
            "_model_name": "DescriptionStyleModel",
            "description_width": "",
            "_view_module": "@jupyter-widgets/base",
            "_model_module_version": "1.5.0",
            "_view_count": null,
            "_view_module_version": "1.2.0",
            "_model_module": "@jupyter-widgets/controls"
          }
        },
        "9e26625218414b018826f66376f73304": {
          "model_module": "@jupyter-widgets/base",
          "model_name": "LayoutModel",
          "model_module_version": "1.2.0",
          "state": {
            "_view_name": "LayoutView",
            "grid_template_rows": null,
            "right": null,
            "justify_content": null,
            "_view_module": "@jupyter-widgets/base",
            "overflow": null,
            "_model_module_version": "1.2.0",
            "_view_count": null,
            "flex_flow": null,
            "width": null,
            "min_width": null,
            "border": null,
            "align_items": null,
            "bottom": null,
            "_model_module": "@jupyter-widgets/base",
            "top": null,
            "grid_column": null,
            "overflow_y": null,
            "overflow_x": null,
            "grid_auto_flow": null,
            "grid_area": null,
            "grid_template_columns": null,
            "flex": null,
            "_model_name": "LayoutModel",
            "justify_items": null,
            "grid_row": null,
            "max_height": null,
            "align_content": null,
            "visibility": null,
            "align_self": null,
            "height": null,
            "min_height": null,
            "padding": null,
            "grid_auto_rows": null,
            "grid_gap": null,
            "max_width": null,
            "order": null,
            "_view_module_version": "1.2.0",
            "grid_template_areas": null,
            "object_position": null,
            "object_fit": null,
            "grid_auto_columns": null,
            "margin": null,
            "display": null,
            "left": null
          }
        }
      }
    }
  },
  "cells": [
    {
      "cell_type": "markdown",
      "metadata": {
        "id": "ggtzMmUNgmDC"
      },
      "source": [
        "This is the code to created augmented dataset using back translation"
      ]
    },
    {
      "cell_type": "code",
      "metadata": {
        "colab": {
          "base_uri": "https://localhost:8080/"
        },
        "id": "3bb-M69DcP1r",
        "outputId": "fd1c1042-5d37-4f46-9fa1-794a2cd855cb"
      },
      "source": [
        "!pip install numpy requests nlpaug"
      ],
      "execution_count": null,
      "outputs": [
        {
          "output_type": "stream",
          "text": [
            "Requirement already satisfied: numpy in /usr/local/lib/python3.7/dist-packages (1.19.5)\n",
            "Requirement already satisfied: requests in /usr/local/lib/python3.7/dist-packages (2.23.0)\n",
            "Collecting nlpaug\n",
            "  Downloading nlpaug-1.1.7-py3-none-any.whl (405 kB)\n",
            "\u001b[K     |████████████████████████████████| 405 kB 5.2 MB/s \n",
            "\u001b[?25hRequirement already satisfied: certifi>=2017.4.17 in /usr/local/lib/python3.7/dist-packages (from requests) (2021.5.30)\n",
            "Requirement already satisfied: chardet<4,>=3.0.2 in /usr/local/lib/python3.7/dist-packages (from requests) (3.0.4)\n",
            "Requirement already satisfied: idna<3,>=2.5 in /usr/local/lib/python3.7/dist-packages (from requests) (2.10)\n",
            "Requirement already satisfied: urllib3!=1.25.0,!=1.25.1,<1.26,>=1.21.1 in /usr/local/lib/python3.7/dist-packages (from requests) (1.24.3)\n",
            "Installing collected packages: nlpaug\n",
            "Successfully installed nlpaug-1.1.7\n"
          ],
          "name": "stdout"
        }
      ]
    },
    {
      "cell_type": "code",
      "metadata": {
        "id": "4XC-iYKecs67"
      },
      "source": [
        "import csv\n",
        "import torch\n",
        "import pandas as pd\n",
        "from tqdm.notebook import tqdm\n",
        "import numpy as np\n",
        "import matplotlib.pyplot as plt\n",
        "\n",
        "import nlpaug.augmenter.char as nac\n",
        "import nlpaug.augmenter.word as naw\n",
        "import nlpaug.augmenter.sentence as nas\n",
        "import nlpaug.flow as nafc\n",
        "\n",
        "from nlpaug.util import Action\n",
        "import nltk\n",
        "import os"
      ],
      "execution_count": null,
      "outputs": []
    },
    {
      "cell_type": "code",
      "metadata": {
        "colab": {
          "base_uri": "https://localhost:8080/"
        },
        "id": "ipaaKGnVrGCl",
        "outputId": "3b354b3f-4227-41a4-db09-36e043c6df49"
      },
      "source": [
        "from google.colab import drive\n",
        "drive.mount('/content/drive')\n",
        "\n"
      ],
      "execution_count": null,
      "outputs": [
        {
          "output_type": "stream",
          "text": [
            "Drive already mounted at /content/drive; to attempt to forcibly remount, call drive.mount(\"/content/drive\", force_remount=True).\n"
          ],
          "name": "stdout"
        }
      ]
    },
    {
      "cell_type": "code",
      "metadata": {
        "colab": {
          "base_uri": "https://localhost:8080/"
        },
        "id": "AUjuy8iXrLjf",
        "outputId": "18ad7c6c-6ada-48f4-8950-6bf2f72d6650"
      },
      "source": [
        "cd drive/MyDrive/hate_speech"
      ],
      "execution_count": null,
      "outputs": [
        {
          "output_type": "stream",
          "text": [
            "/content/drive/MyDrive/hate_speech\n"
          ],
          "name": "stdout"
        }
      ]
    },
    {
      "cell_type": "code",
      "metadata": {
        "colab": {
          "base_uri": "https://localhost:8080/"
        },
        "id": "lLT8YpnudloU",
        "outputId": "0bd5fee3-222e-4e84-e1be-14efed1e69bb"
      },
      "source": [
        "nltk.download('averaged_perceptron_tagger')\n",
        "nltk.download('wordnet')"
      ],
      "execution_count": null,
      "outputs": [
        {
          "output_type": "stream",
          "text": [
            "[nltk_data] Downloading package averaged_perceptron_tagger to\n",
            "[nltk_data]     /root/nltk_data...\n",
            "[nltk_data]   Package averaged_perceptron_tagger is already up-to-\n",
            "[nltk_data]       date!\n",
            "[nltk_data] Downloading package wordnet to /root/nltk_data...\n",
            "[nltk_data]   Unzipping corpora/wordnet.zip.\n"
          ],
          "name": "stdout"
        },
        {
          "output_type": "execute_result",
          "data": {
            "text/plain": [
              "True"
            ]
          },
          "metadata": {
            "tags": []
          },
          "execution_count": 7
        }
      ]
    },
    {
      "cell_type": "code",
      "metadata": {
        "id": "UdMOkYMEpwtQ"
      },
      "source": [
        "!pip install transformers"
      ],
      "execution_count": null,
      "outputs": []
    },
    {
      "cell_type": "code",
      "metadata": {
        "id": "gO3XwJX_d-BN"
      },
      "source": [
        "back_translation_aug = naw.BackTranslationAug(\n",
        "    from_model_name='facebook/wmt19-en-de', \n",
        "    to_model_name='facebook/wmt19-de-en'\n",
        ")"
      ],
      "execution_count": null,
      "outputs": []
    },
    {
      "cell_type": "code",
      "metadata": {
        "colab": {
          "base_uri": "https://localhost:8080/"
        },
        "id": "-ahdSZnmrTcg",
        "outputId": "0e47a2f8-8235-4629-f940-0483a97aa236"
      },
      "source": [
        "df = pd.read_csv('train_hatespeech.csv')\n",
        "df.set_index('id', inplace = True)\n",
        "print(df.Label.value_counts())"
      ],
      "execution_count": null,
      "outputs": [
        {
          "output_type": "stream",
          "text": [
            "none      8747\n",
            "sexism    2534\n",
            "racism    1548\n",
            "Name: Label, dtype: int64\n"
          ],
          "name": "stdout"
        }
      ]
    },
    {
      "cell_type": "code",
      "metadata": {
        "colab": {
          "base_uri": "https://localhost:8080/",
          "height": 419
        },
        "id": "ZwRSKQnercyY",
        "outputId": "c24a5076-d51f-4ea5-eeed-fee429ddb809"
      },
      "source": [
        "df"
      ],
      "execution_count": null,
      "outputs": [
        {
          "output_type": "execute_result",
          "data": {
            "text/html": [
              "<div>\n",
              "<style scoped>\n",
              "    .dataframe tbody tr th:only-of-type {\n",
              "        vertical-align: middle;\n",
              "    }\n",
              "\n",
              "    .dataframe tbody tr th {\n",
              "        vertical-align: top;\n",
              "    }\n",
              "\n",
              "    .dataframe thead th {\n",
              "        text-align: right;\n",
              "    }\n",
              "</style>\n",
              "<table border=\"1\" class=\"dataframe\">\n",
              "  <thead>\n",
              "    <tr style=\"text-align: right;\">\n",
              "      <th></th>\n",
              "      <th>Tweets</th>\n",
              "      <th>Label</th>\n",
              "    </tr>\n",
              "  </thead>\n",
              "  <tbody>\n",
              "    <tr>\n",
              "      <th>0</th>\n",
              "      <td>The jokes and puns are flying free in this cam...</td>\n",
              "      <td>none</td>\n",
              "    </tr>\n",
              "    <tr>\n",
              "      <th>1</th>\n",
              "      <td>#MKR Lets see who the producers think are goin...</td>\n",
              "      <td>none</td>\n",
              "    </tr>\n",
              "    <tr>\n",
              "      <th>2</th>\n",
              "      <td>Praying Jac and Shaz do well! They're my faves...</td>\n",
              "      <td>none</td>\n",
              "    </tr>\n",
              "    <tr>\n",
              "      <th>3</th>\n",
              "      <td>RT @realityraver: Pete Evans the Paleo Capital...</td>\n",
              "      <td>none</td>\n",
              "    </tr>\n",
              "    <tr>\n",
              "      <th>4</th>\n",
              "      <td>If Kat and Andre stay tonight I will stop watc...</td>\n",
              "      <td>none</td>\n",
              "    </tr>\n",
              "    <tr>\n",
              "      <th>...</th>\n",
              "      <td>...</td>\n",
              "      <td>...</td>\n",
              "    </tr>\n",
              "    <tr>\n",
              "      <th>12829</th>\n",
              "      <td>Yes you are. @ KenBest I swear I'm not sexist,...</td>\n",
              "      <td>sexism</td>\n",
              "    </tr>\n",
              "    <tr>\n",
              "      <th>12830</th>\n",
              "      <td>BACK AT YOU DOUCHE @ GrindMode407 Mannnn I'm n...</td>\n",
              "      <td>sexism</td>\n",
              "    </tr>\n",
              "    <tr>\n",
              "      <th>12831</th>\n",
              "      <td>Here is my review of 99% of the games I have e...</td>\n",
              "      <td>none</td>\n",
              "    </tr>\n",
              "    <tr>\n",
              "      <th>12832</th>\n",
              "      <td>@ Cameron _ Gray @ ILNewsFlash Western feminis...</td>\n",
              "      <td>none</td>\n",
              "    </tr>\n",
              "    <tr>\n",
              "      <th>12833</th>\n",
              "      <td>@ limbclock I wouldn't do that.</td>\n",
              "      <td>none</td>\n",
              "    </tr>\n",
              "  </tbody>\n",
              "</table>\n",
              "<p>12834 rows × 2 columns</p>\n",
              "</div>"
            ],
            "text/plain": [
              "                                                  Tweets   Label\n",
              "0      The jokes and puns are flying free in this cam...    none\n",
              "1      #MKR Lets see who the producers think are goin...    none\n",
              "2      Praying Jac and Shaz do well! They're my faves...    none\n",
              "3      RT @realityraver: Pete Evans the Paleo Capital...    none\n",
              "4      If Kat and Andre stay tonight I will stop watc...    none\n",
              "...                                                  ...     ...\n",
              "12829  Yes you are. @ KenBest I swear I'm not sexist,...  sexism\n",
              "12830  BACK AT YOU DOUCHE @ GrindMode407 Mannnn I'm n...  sexism\n",
              "12831  Here is my review of 99% of the games I have e...    none\n",
              "12832  @ Cameron _ Gray @ ILNewsFlash Western feminis...    none\n",
              "12833                    @ limbclock I wouldn't do that.    none\n",
              "\n",
              "[12834 rows x 2 columns]"
            ]
          },
          "metadata": {
            "tags": []
          },
          "execution_count": 51
        }
      ]
    },
    {
      "cell_type": "code",
      "metadata": {
        "id": "vdqhdO_MrjR5"
      },
      "source": [
        "def augment_text(df,samples=300):\n",
        "    new_text=[]\n",
        "    new_label=[]\n",
        "\n",
        "    ## data augmentation loop\n",
        "    for i in tqdm(np.random.randint(0,len(df_n),samples)):\n",
        "        \n",
        "            text = df_n.iloc[i]['text']\n",
        "            augmented_text = aug_w2v.augment(text)\n",
        "            new_text.append(augmented_text)\n",
        "    \n",
        "    \n",
        "    ## dataframe\n",
        "    new=pd.DataFrame({'text':new_text,'target':1})\n",
        "    df=df.append(new).reset_index(drop=True)\n",
        "    return df\n",
        "   \n",
        "train = augment_text(train)"
      ],
      "execution_count": null,
      "outputs": []
    },
    {
      "cell_type": "code",
      "metadata": {
        "id": "d-5O_7XkxJvU"
      },
      "source": [
        ""
      ],
      "execution_count": null,
      "outputs": []
    },
    {
      "cell_type": "markdown",
      "metadata": {
        "id": "f3U97nNtwX50"
      },
      "source": [
        "Back translation is very heavy since it requires transformer model inference, so for this notebook I'll only do augmentation for 200 random samples. Ideally I would definitely do it for the entire dataset but right now there's a time and resource limit. Hope this is ok for the sake of concept demo."
      ]
    },
    {
      "cell_type": "code",
      "metadata": {
        "colab": {
          "base_uri": "https://localhost:8080/",
          "height": 1000,
          "referenced_widgets": [
            "11f3645e49ac44a1ad6bfcd4ef45fbdd",
            "8e03767305ef465e8a58fd04f4b45ca9",
            "7ad0cc0de8f94437a1fe216817fa73a8",
            "e2dd7f68e26f4ee88335985f7643ee47",
            "63cf781eeb0b4bd2bf3f036ae18d4db9",
            "40d57fde102a4f1ca62f7103f7d48019",
            "1579a39b944b4def983bdf170e52e223",
            "fdee1afb23f3414ba193a74123ca38f9",
            "dcbe0eaa2f8642d58f832929fdee8bd0",
            "1029493fb5ea42a286899e4779775c1a",
            "9e26625218414b018826f66376f73304"
          ]
        },
        "id": "RlOVyzEer2Je",
        "outputId": "4cf702b1-ca61-4bd0-8813-b85253244e11"
      },
      "source": [
        "new_text=[]\n",
        "new_label=[]\n",
        "\n",
        "\n",
        "for i in tqdm(np.random.randint(0,len(df), 200)):\n",
        "  # print(i)\n",
        "  text = df.iloc[i]['Tweets']\n",
        "  label = df.iloc[i]['Label']\n",
        "  augmented_text = back_translation_aug.augment(text)\n",
        "  new_text.append(augmented_text)\n",
        "  new_label.append(label)\n",
        "\n",
        "## dataframe\n",
        "new=pd.DataFrame({'Tweets':new_text,'Label':new_label})\n",
        "df=df.append(new).reset_index(drop=True)\n",
        "\n"
      ],
      "execution_count": null,
      "outputs": [
        {
          "output_type": "display_data",
          "data": {
            "application/vnd.jupyter.widget-view+json": {
              "model_id": "11f3645e49ac44a1ad6bfcd4ef45fbdd",
              "version_minor": 0,
              "version_major": 2
            },
            "text/plain": [
              "  0%|          | 0/200 [00:00<?, ?it/s]"
            ]
          },
          "metadata": {
            "tags": []
          }
        },
        {
          "output_type": "stream",
          "text": [
            "11024\n",
            "2815\n",
            "10089\n",
            "7733\n",
            "10239\n",
            "12378\n",
            "7717\n",
            "10376\n",
            "11323\n",
            "4876\n",
            "9401\n",
            "221\n",
            "3280\n",
            "494\n",
            "2863\n",
            "10455\n",
            "6255\n",
            "3898\n",
            "5777\n",
            "2592\n",
            "68\n",
            "6488\n",
            "8937\n",
            "858\n",
            "9554\n",
            "2153\n",
            "9506\n",
            "3849\n",
            "10963\n",
            "4009\n",
            "10011\n",
            "4872\n",
            "12281\n",
            "9938\n",
            "11512\n",
            "5619\n",
            "2964\n",
            "8011\n",
            "12596\n",
            "9004\n",
            "10404\n",
            "7858\n",
            "11463\n",
            "8795\n",
            "5818\n",
            "9706\n",
            "11214\n",
            "10058\n",
            "11033\n",
            "2824\n",
            "7935\n",
            "3956\n",
            "7533\n",
            "6462\n",
            "12491\n",
            "8961\n",
            "5512\n",
            "8812\n",
            "3772\n",
            "3729\n",
            "4970\n",
            "2423\n",
            "1148\n",
            "12475\n",
            "7641\n",
            "8025\n",
            "6668\n",
            "3136\n",
            "5229\n",
            "524\n",
            "6652\n",
            "11474\n",
            "12383\n",
            "639\n",
            "718\n",
            "8487\n",
            "12362\n",
            "11915\n",
            "12671\n",
            "5463\n",
            "3648\n",
            "7041\n",
            "4083\n",
            "11900\n",
            "8805\n",
            "5071\n",
            "4526\n",
            "4595\n",
            "3204\n",
            "5183\n",
            "11380\n",
            "8187\n",
            "4088\n",
            "11592\n",
            "3283\n",
            "12335\n",
            "7507\n",
            "8931\n",
            "8281\n",
            "9807\n",
            "2191\n",
            "11285\n",
            "6655\n",
            "5658\n",
            "11466\n",
            "6534\n",
            "6031\n",
            "1765\n",
            "8752\n",
            "5994\n",
            "6498\n",
            "2380\n",
            "1031\n",
            "12003\n",
            "563\n",
            "7004\n",
            "5961\n",
            "1959\n",
            "510\n",
            "3270\n",
            "4208\n",
            "5651\n",
            "12106\n",
            "7515\n",
            "2718\n",
            "9654\n",
            "6665\n",
            "5854\n",
            "2595\n",
            "7783\n",
            "11653\n",
            "2211\n",
            "4782\n",
            "12595\n",
            "4119\n",
            "10626\n",
            "9996\n",
            "6447\n",
            "9069\n",
            "631\n",
            "4751\n",
            "1693\n",
            "9853\n",
            "400\n",
            "7234\n",
            "51\n",
            "5828\n",
            "9557\n",
            "9015\n",
            "3254\n",
            "1044\n",
            "2753\n",
            "3912\n",
            "4562\n",
            "3497\n",
            "10644\n",
            "1282\n",
            "3667\n",
            "5427\n",
            "11480\n",
            "7997\n",
            "8359\n",
            "349\n",
            "7462\n",
            "8303\n",
            "8097\n",
            "2271\n",
            "4404\n",
            "5\n",
            "10213\n",
            "2001\n",
            "5882\n",
            "1042\n",
            "5199\n",
            "4874\n",
            "1344\n",
            "6356\n",
            "1044\n",
            "114\n",
            "4076\n",
            "8667\n",
            "4009\n",
            "5951\n",
            "4061\n",
            "6207\n",
            "4680\n",
            "3076\n",
            "8834\n",
            "10105\n",
            "9781\n",
            "8829\n",
            "3457\n",
            "9205\n",
            "6188\n",
            "10063\n",
            "1089\n",
            "1165\n",
            "3770\n",
            "9536\n",
            "10764\n"
          ],
          "name": "stdout"
        }
      ]
    },
    {
      "cell_type": "code",
      "metadata": {
        "id": "aR2L7M-BuQ4j"
      },
      "source": [
        "df.to_csv(\"train_augmented.csv\", index_label=\"id\")"
      ],
      "execution_count": null,
      "outputs": []
    },
    {
      "cell_type": "code",
      "metadata": {
        "colab": {
          "base_uri": "https://localhost:8080/",
          "height": 419
        },
        "id": "etDe9cMX24of",
        "outputId": "661a406b-dfae-4e68-84cb-b59d0901433f"
      },
      "source": [
        "df"
      ],
      "execution_count": null,
      "outputs": [
        {
          "output_type": "execute_result",
          "data": {
            "text/html": [
              "<div>\n",
              "<style scoped>\n",
              "    .dataframe tbody tr th:only-of-type {\n",
              "        vertical-align: middle;\n",
              "    }\n",
              "\n",
              "    .dataframe tbody tr th {\n",
              "        vertical-align: top;\n",
              "    }\n",
              "\n",
              "    .dataframe thead th {\n",
              "        text-align: right;\n",
              "    }\n",
              "</style>\n",
              "<table border=\"1\" class=\"dataframe\">\n",
              "  <thead>\n",
              "    <tr style=\"text-align: right;\">\n",
              "      <th></th>\n",
              "      <th>Tweets</th>\n",
              "      <th>Label</th>\n",
              "    </tr>\n",
              "  </thead>\n",
              "  <tbody>\n",
              "    <tr>\n",
              "      <th>0</th>\n",
              "      <td>The jokes and puns are flying free in this cam...</td>\n",
              "      <td>none</td>\n",
              "    </tr>\n",
              "    <tr>\n",
              "      <th>1</th>\n",
              "      <td>#MKR Lets see who the producers think are goin...</td>\n",
              "      <td>none</td>\n",
              "    </tr>\n",
              "    <tr>\n",
              "      <th>2</th>\n",
              "      <td>Praying Jac and Shaz do well! They're my faves...</td>\n",
              "      <td>none</td>\n",
              "    </tr>\n",
              "    <tr>\n",
              "      <th>3</th>\n",
              "      <td>RT @realityraver: Pete Evans the Paleo Capital...</td>\n",
              "      <td>none</td>\n",
              "    </tr>\n",
              "    <tr>\n",
              "      <th>4</th>\n",
              "      <td>If Kat and Andre stay tonight I will stop watc...</td>\n",
              "      <td>none</td>\n",
              "    </tr>\n",
              "    <tr>\n",
              "      <th>...</th>\n",
              "      <td>...</td>\n",
              "      <td>...</td>\n",
              "    </tr>\n",
              "    <tr>\n",
              "      <th>13024</th>\n",
              "      <td>Suddenly 3 times as many people who could ever...</td>\n",
              "      <td>none</td>\n",
              "    </tr>\n",
              "    <tr>\n",
              "      <th>13025</th>\n",
              "      <td>RT @ shanselman: Reminder: Nerd Dinner / Tweet...</td>\n",
              "      <td>none</td>\n",
              "    </tr>\n",
              "    <tr>\n",
              "      <th>13026</th>\n",
              "      <td>@ srhbutts @ ChrisWarcraft omg omg omgMAGICAL ...</td>\n",
              "      <td>none</td>\n",
              "    </tr>\n",
              "    <tr>\n",
              "      <th>13027</th>\n",
              "      <td>RT @ Madasatrain69: @ OZzSue @ Muslim _ Patrol...</td>\n",
              "      <td>racism</td>\n",
              "    </tr>\n",
              "    <tr>\n",
              "      <th>13028</th>\n",
              "      <td>@ BlackOpal80 I'm blocked.</td>\n",
              "      <td>sexism</td>\n",
              "    </tr>\n",
              "  </tbody>\n",
              "</table>\n",
              "<p>13029 rows × 2 columns</p>\n",
              "</div>"
            ],
            "text/plain": [
              "                                                  Tweets   Label\n",
              "0      The jokes and puns are flying free in this cam...    none\n",
              "1      #MKR Lets see who the producers think are goin...    none\n",
              "2      Praying Jac and Shaz do well! They're my faves...    none\n",
              "3      RT @realityraver: Pete Evans the Paleo Capital...    none\n",
              "4      If Kat and Andre stay tonight I will stop watc...    none\n",
              "...                                                  ...     ...\n",
              "13024  Suddenly 3 times as many people who could ever...    none\n",
              "13025  RT @ shanselman: Reminder: Nerd Dinner / Tweet...    none\n",
              "13026  @ srhbutts @ ChrisWarcraft omg omg omgMAGICAL ...    none\n",
              "13027  RT @ Madasatrain69: @ OZzSue @ Muslim _ Patrol...  racism\n",
              "13028                         @ BlackOpal80 I'm blocked.  sexism\n",
              "\n",
              "[13029 rows x 2 columns]"
            ]
          },
          "metadata": {
            "tags": []
          },
          "execution_count": 55
        }
      ]
    }
  ]
}